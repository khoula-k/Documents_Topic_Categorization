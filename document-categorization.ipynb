{
 "cells": [
  {
   "cell_type": "markdown",
   "id": "071ffa46",
   "metadata": {
    "papermill": {
     "duration": 0.025595,
     "end_time": "2022-04-01T11:28:31.850811",
     "exception": false,
     "start_time": "2022-04-01T11:28:31.825216",
     "status": "completed"
    },
    "tags": []
   },
   "source": [
    "# Document Classificaion\n",
    "## Khoula Al Kharusi\n",
    "## COMP6602: Machine Learning I "
   ]
  },
  {
   "cell_type": "code",
   "execution_count": 1,
   "id": "ad06bbae",
   "metadata": {
    "execution": {
     "iopub.execute_input": "2022-04-01T11:28:31.917424Z",
     "iopub.status.busy": "2022-04-01T11:28:31.912961Z",
     "iopub.status.idle": "2022-04-01T11:28:33.753424Z",
     "shell.execute_reply": "2022-04-01T11:28:33.752795Z",
     "shell.execute_reply.started": "2022-04-01T10:54:28.003351Z"
    },
    "papermill": {
     "duration": 1.876095,
     "end_time": "2022-04-01T11:28:33.753557",
     "exception": false,
     "start_time": "2022-04-01T11:28:31.877462",
     "status": "completed"
    },
    "tags": []
   },
   "outputs": [],
   "source": [
    "from nltk.corpus import stopwords\n",
    "import nltk\n",
    "\n",
    "stop_words = stopwords.words('english')\n",
    "prt = nltk.stem.PorterStemmer()\n",
    "\n",
    "def preprocess(document_path):\n",
    "    \n",
    "    with open(document_path, 'r') as file:\n",
    "        document = file.read()\n",
    "    \n",
    "    tokens = nltk.word_tokenize(document)\n",
    "\n",
    "    tokens_pun_lower = [i.lower() for i in tokens if i.isalnum()]\n",
    "\n",
    "    tokens_stop = [i for i in tokens_pun_lower if i not in stop_words]\n",
    "\n",
    "    terms = [prt.stem(i) for i in tokens_stop]\n",
    "    \n",
    "    return \" \".join(terms)"
   ]
  },
  {
   "cell_type": "code",
   "execution_count": 2,
   "id": "4f68a1ea",
   "metadata": {
    "execution": {
     "iopub.execute_input": "2022-04-01T11:28:33.808253Z",
     "iopub.status.busy": "2022-04-01T11:28:33.807740Z",
     "iopub.status.idle": "2022-04-01T11:28:33.811517Z",
     "shell.execute_reply": "2022-04-01T11:28:33.810932Z",
     "shell.execute_reply.started": "2022-04-01T10:54:30.989238Z"
    },
    "papermill": {
     "duration": 0.033525,
     "end_time": "2022-04-01T11:28:33.811628",
     "exception": false,
     "start_time": "2022-04-01T11:28:33.778103",
     "status": "completed"
    },
    "tags": []
   },
   "outputs": [],
   "source": [
    "def onehot_encoder(c, classesList):\n",
    "    encoded = [0 for _ in range(len(classesList))]\n",
    "    encoded[classesList.index(c)] = 1\n",
    "    return encoded\n"
   ]
  },
  {
   "cell_type": "code",
   "execution_count": 3,
   "id": "dbf88c5a",
   "metadata": {
    "_cell_guid": "b1076dfc-b9ad-4769-8c92-a6c4dae69d19",
    "_uuid": "8f2839f25d086af736a60e9eeb907d3b93b6e0e5",
    "execution": {
     "iopub.execute_input": "2022-04-01T11:28:33.871328Z",
     "iopub.status.busy": "2022-04-01T11:28:33.870647Z",
     "iopub.status.idle": "2022-04-01T11:28:51.916414Z",
     "shell.execute_reply": "2022-04-01T11:28:51.916919Z",
     "shell.execute_reply.started": "2022-04-01T10:54:34.078208Z"
    },
    "papermill": {
     "duration": 18.08019,
     "end_time": "2022-04-01T11:28:51.917074",
     "exception": false,
     "start_time": "2022-04-01T11:28:33.836884",
     "status": "completed"
    },
    "tags": []
   },
   "outputs": [
    {
     "data": {
      "text/html": [
       "<div>\n",
       "<style scoped>\n",
       "    .dataframe tbody tr th:only-of-type {\n",
       "        vertical-align: middle;\n",
       "    }\n",
       "\n",
       "    .dataframe tbody tr th {\n",
       "        vertical-align: top;\n",
       "    }\n",
       "\n",
       "    .dataframe thead th {\n",
       "        text-align: right;\n",
       "    }\n",
       "</style>\n",
       "<table border=\"1\" class=\"dataframe\">\n",
       "  <thead>\n",
       "    <tr style=\"text-align: right;\">\n",
       "      <th></th>\n",
       "      <th>Title</th>\n",
       "      <th>Document</th>\n",
       "      <th>Class</th>\n",
       "    </tr>\n",
       "  </thead>\n",
       "  <tbody>\n",
       "    <tr>\n",
       "      <th>0</th>\n",
       "      <td>space_73.txt</td>\n",
       "      <td>date seri link messag period post usenet group...</td>\n",
       "      <td>space</td>\n",
       "    </tr>\n",
       "    <tr>\n",
       "      <th>1</th>\n",
       "      <td>space_33.txt</td>\n",
       "      <td>shag rob unverzagt write articl 5apr1993180450...</td>\n",
       "      <td>space</td>\n",
       "    </tr>\n",
       "    <tr>\n",
       "      <th>2</th>\n",
       "      <td>space_5.txt</td>\n",
       "      <td>anyon know size cold ga roll control thruster ...</td>\n",
       "      <td>space</td>\n",
       "    </tr>\n",
       "    <tr>\n",
       "      <th>3</th>\n",
       "      <td>space_8.txt</td>\n",
       "      <td>nanderso norman anderson write jmcocker mitch ...</td>\n",
       "      <td>space</td>\n",
       "    </tr>\n",
       "    <tr>\n",
       "      <th>4</th>\n",
       "      <td>space_66.txt</td>\n",
       "      <td>recent observ taken hubbl space telescop faint...</td>\n",
       "      <td>space</td>\n",
       "    </tr>\n",
       "    <tr>\n",
       "      <th>...</th>\n",
       "      <td>...</td>\n",
       "      <td>...</td>\n",
       "      <td>...</td>\n",
       "    </tr>\n",
       "    <tr>\n",
       "      <th>995</th>\n",
       "      <td>business_79.txt</td>\n",
       "      <td>us interest rate rise expect us interest rate ...</td>\n",
       "      <td>business</td>\n",
       "    </tr>\n",
       "    <tr>\n",
       "      <th>996</th>\n",
       "      <td>business_61.txt</td>\n",
       "      <td>hous price drop sale slow hous price fell nove...</td>\n",
       "      <td>business</td>\n",
       "    </tr>\n",
       "    <tr>\n",
       "      <th>997</th>\n",
       "      <td>business_52.txt</td>\n",
       "      <td>uk economi face uk manufactur sector continu f...</td>\n",
       "      <td>business</td>\n",
       "    </tr>\n",
       "    <tr>\n",
       "      <th>998</th>\n",
       "      <td>business_13.txt</td>\n",
       "      <td>industri reviv hope japan japanes industri gro...</td>\n",
       "      <td>business</td>\n",
       "    </tr>\n",
       "    <tr>\n",
       "      <th>999</th>\n",
       "      <td>business_5.txt</td>\n",
       "      <td>peugeot deal boost mitsubishi struggl japanes ...</td>\n",
       "      <td>business</td>\n",
       "    </tr>\n",
       "  </tbody>\n",
       "</table>\n",
       "<p>1000 rows × 3 columns</p>\n",
       "</div>"
      ],
      "text/plain": [
       "               Title                                           Document  \\\n",
       "0       space_73.txt  date seri link messag period post usenet group...   \n",
       "1       space_33.txt  shag rob unverzagt write articl 5apr1993180450...   \n",
       "2        space_5.txt  anyon know size cold ga roll control thruster ...   \n",
       "3        space_8.txt  nanderso norman anderson write jmcocker mitch ...   \n",
       "4       space_66.txt  recent observ taken hubbl space telescop faint...   \n",
       "..               ...                                                ...   \n",
       "995  business_79.txt  us interest rate rise expect us interest rate ...   \n",
       "996  business_61.txt  hous price drop sale slow hous price fell nove...   \n",
       "997  business_52.txt  uk economi face uk manufactur sector continu f...   \n",
       "998  business_13.txt  industri reviv hope japan japanes industri gro...   \n",
       "999   business_5.txt  peugeot deal boost mitsubishi struggl japanes ...   \n",
       "\n",
       "        Class  \n",
       "0       space  \n",
       "1       space  \n",
       "2       space  \n",
       "3       space  \n",
       "4       space  \n",
       "..        ...  \n",
       "995  business  \n",
       "996  business  \n",
       "997  business  \n",
       "998  business  \n",
       "999  business  \n",
       "\n",
       "[1000 rows x 3 columns]"
      ]
     },
     "execution_count": 3,
     "metadata": {},
     "output_type": "execute_result"
    }
   ],
   "source": [
    "# This Python 3 environment comes with many helpful analytics libraries installed\n",
    "# It is defined by the kaggle/python Docker image: https://github.com/kaggle/docker-python\n",
    "# For example, here's several helpful packages to load\n",
    "\n",
    "import numpy as np # linear algebra\n",
    "import pandas as pd # data processing, CSV file I/O (e.g. pd.read_csv)\n",
    "\n",
    "# Input data files are available in the read-only \"../input/\" directory\n",
    "# For example, running this (by clicking run or pressing Shift+Enter) will list all files under the input directory\n",
    "\n",
    "Data = []\n",
    "import os\n",
    "for dirname, _, filenames in os.walk('/kaggle/input'):\n",
    "    for filename in filenames:\n",
    "        #print(os.path.join(dirname, filename))\n",
    "        doc_class = filename.split('_')[0].lower()\n",
    "        doc_titles = filename\n",
    "        documents = preprocess(os.path.join(dirname, filename))\n",
    "        \n",
    "        Data.append([doc_titles, documents, doc_class])\n",
    "\n",
    "df = pd.DataFrame (Data, columns = ['Title', 'Document', 'Class'])\n",
    "df\n",
    "# You can write up to 20GB to the current directory (/kaggle/working/) that gets preserved as output when you create a version using \"Save & Run All\" \n",
    "# You can also write temporary files to /kaggle/temp/, but they won't be saved outside of the current session"
   ]
  },
  {
   "cell_type": "code",
   "execution_count": 4,
   "id": "f75b7f26",
   "metadata": {
    "execution": {
     "iopub.execute_input": "2022-04-01T11:28:52.020778Z",
     "iopub.status.busy": "2022-04-01T11:28:52.019199Z",
     "iopub.status.idle": "2022-04-01T11:28:52.023936Z",
     "shell.execute_reply": "2022-04-01T11:28:52.022777Z",
     "shell.execute_reply.started": "2022-04-01T10:54:55.641591Z"
    },
    "papermill": {
     "duration": 0.068787,
     "end_time": "2022-04-01T11:28:52.024245",
     "exception": false,
     "start_time": "2022-04-01T11:28:51.955458",
     "status": "completed"
    },
    "tags": []
   },
   "outputs": [
    {
     "name": "stdout",
     "output_type": "stream",
     "text": [
      "<class 'pandas.core.frame.DataFrame'>\n",
      "RangeIndex: 1000 entries, 0 to 999\n",
      "Data columns (total 3 columns):\n",
      " #   Column    Non-Null Count  Dtype \n",
      "---  ------    --------------  ----- \n",
      " 0   Title     1000 non-null   object\n",
      " 1   Document  1000 non-null   object\n",
      " 2   Class     1000 non-null   object\n",
      "dtypes: object(3)\n",
      "memory usage: 23.6+ KB\n"
     ]
    }
   ],
   "source": [
    "df.info()"
   ]
  },
  {
   "cell_type": "code",
   "execution_count": 5,
   "id": "04e47f58",
   "metadata": {
    "execution": {
     "iopub.execute_input": "2022-04-01T11:28:52.108610Z",
     "iopub.status.busy": "2022-04-01T11:28:52.107826Z",
     "iopub.status.idle": "2022-04-01T11:28:52.112868Z",
     "shell.execute_reply": "2022-04-01T11:28:52.112322Z",
     "shell.execute_reply.started": "2022-04-01T10:54:59.672257Z"
    },
    "papermill": {
     "duration": 0.04903,
     "end_time": "2022-04-01T11:28:52.113009",
     "exception": false,
     "start_time": "2022-04-01T11:28:52.063979",
     "status": "completed"
    },
    "tags": []
   },
   "outputs": [
    {
     "data": {
      "text/plain": [
       "array(['space', 'politics', 'sport', 'technologie', 'historical',\n",
       "       'medical', 'graphics', 'entertainment', 'food', 'business'],\n",
       "      dtype=object)"
      ]
     },
     "execution_count": 5,
     "metadata": {},
     "output_type": "execute_result"
    }
   ],
   "source": [
    "classesList = df['Class'].unique()\n",
    "classesList"
   ]
  },
  {
   "cell_type": "code",
   "execution_count": 6,
   "id": "50a0e5cb",
   "metadata": {
    "execution": {
     "iopub.execute_input": "2022-04-01T11:28:52.197094Z",
     "iopub.status.busy": "2022-04-01T11:28:52.189487Z",
     "iopub.status.idle": "2022-04-01T11:28:52.204301Z",
     "shell.execute_reply": "2022-04-01T11:28:52.203504Z",
     "shell.execute_reply.started": "2022-04-01T10:55:01.978881Z"
    },
    "papermill": {
     "duration": 0.052771,
     "end_time": "2022-04-01T11:28:52.204462",
     "exception": false,
     "start_time": "2022-04-01T11:28:52.151691",
     "status": "completed"
    },
    "tags": []
   },
   "outputs": [
    {
     "data": {
      "text/html": [
       "<div>\n",
       "<style scoped>\n",
       "    .dataframe tbody tr th:only-of-type {\n",
       "        vertical-align: middle;\n",
       "    }\n",
       "\n",
       "    .dataframe tbody tr th {\n",
       "        vertical-align: top;\n",
       "    }\n",
       "\n",
       "    .dataframe thead th {\n",
       "        text-align: right;\n",
       "    }\n",
       "</style>\n",
       "<table border=\"1\" class=\"dataframe\">\n",
       "  <thead>\n",
       "    <tr style=\"text-align: right;\">\n",
       "      <th></th>\n",
       "      <th>Title</th>\n",
       "      <th>Document</th>\n",
       "      <th>Class</th>\n",
       "    </tr>\n",
       "  </thead>\n",
       "  <tbody>\n",
       "    <tr>\n",
       "      <th>0</th>\n",
       "      <td>space_73.txt</td>\n",
       "      <td>date seri link messag period post usenet group...</td>\n",
       "      <td>0</td>\n",
       "    </tr>\n",
       "    <tr>\n",
       "      <th>1</th>\n",
       "      <td>space_33.txt</td>\n",
       "      <td>shag rob unverzagt write articl 5apr1993180450...</td>\n",
       "      <td>0</td>\n",
       "    </tr>\n",
       "    <tr>\n",
       "      <th>2</th>\n",
       "      <td>space_5.txt</td>\n",
       "      <td>anyon know size cold ga roll control thruster ...</td>\n",
       "      <td>0</td>\n",
       "    </tr>\n",
       "    <tr>\n",
       "      <th>3</th>\n",
       "      <td>space_8.txt</td>\n",
       "      <td>nanderso norman anderson write jmcocker mitch ...</td>\n",
       "      <td>0</td>\n",
       "    </tr>\n",
       "    <tr>\n",
       "      <th>4</th>\n",
       "      <td>space_66.txt</td>\n",
       "      <td>recent observ taken hubbl space telescop faint...</td>\n",
       "      <td>0</td>\n",
       "    </tr>\n",
       "    <tr>\n",
       "      <th>...</th>\n",
       "      <td>...</td>\n",
       "      <td>...</td>\n",
       "      <td>...</td>\n",
       "    </tr>\n",
       "    <tr>\n",
       "      <th>995</th>\n",
       "      <td>business_79.txt</td>\n",
       "      <td>us interest rate rise expect us interest rate ...</td>\n",
       "      <td>9</td>\n",
       "    </tr>\n",
       "    <tr>\n",
       "      <th>996</th>\n",
       "      <td>business_61.txt</td>\n",
       "      <td>hous price drop sale slow hous price fell nove...</td>\n",
       "      <td>9</td>\n",
       "    </tr>\n",
       "    <tr>\n",
       "      <th>997</th>\n",
       "      <td>business_52.txt</td>\n",
       "      <td>uk economi face uk manufactur sector continu f...</td>\n",
       "      <td>9</td>\n",
       "    </tr>\n",
       "    <tr>\n",
       "      <th>998</th>\n",
       "      <td>business_13.txt</td>\n",
       "      <td>industri reviv hope japan japanes industri gro...</td>\n",
       "      <td>9</td>\n",
       "    </tr>\n",
       "    <tr>\n",
       "      <th>999</th>\n",
       "      <td>business_5.txt</td>\n",
       "      <td>peugeot deal boost mitsubishi struggl japanes ...</td>\n",
       "      <td>9</td>\n",
       "    </tr>\n",
       "  </tbody>\n",
       "</table>\n",
       "<p>1000 rows × 3 columns</p>\n",
       "</div>"
      ],
      "text/plain": [
       "               Title                                           Document  Class\n",
       "0       space_73.txt  date seri link messag period post usenet group...      0\n",
       "1       space_33.txt  shag rob unverzagt write articl 5apr1993180450...      0\n",
       "2        space_5.txt  anyon know size cold ga roll control thruster ...      0\n",
       "3        space_8.txt  nanderso norman anderson write jmcocker mitch ...      0\n",
       "4       space_66.txt  recent observ taken hubbl space telescop faint...      0\n",
       "..               ...                                                ...    ...\n",
       "995  business_79.txt  us interest rate rise expect us interest rate ...      9\n",
       "996  business_61.txt  hous price drop sale slow hous price fell nove...      9\n",
       "997  business_52.txt  uk economi face uk manufactur sector continu f...      9\n",
       "998  business_13.txt  industri reviv hope japan japanes industri gro...      9\n",
       "999   business_5.txt  peugeot deal boost mitsubishi struggl japanes ...      9\n",
       "\n",
       "[1000 rows x 3 columns]"
      ]
     },
     "execution_count": 6,
     "metadata": {},
     "output_type": "execute_result"
    }
   ],
   "source": [
    "df['Class'] = pd.factorize(df['Class'])[0]\n",
    "df"
   ]
  },
  {
   "cell_type": "code",
   "execution_count": 7,
   "id": "0f51c1c9",
   "metadata": {
    "execution": {
     "iopub.execute_input": "2022-04-01T11:28:52.312596Z",
     "iopub.status.busy": "2022-04-01T11:28:52.298469Z",
     "iopub.status.idle": "2022-04-01T11:28:52.318082Z",
     "shell.execute_reply": "2022-04-01T11:28:52.318692Z",
     "shell.execute_reply.started": "2022-04-01T10:55:03.727737Z"
    },
    "papermill": {
     "duration": 0.064119,
     "end_time": "2022-04-01T11:28:52.318880",
     "exception": false,
     "start_time": "2022-04-01T11:28:52.254761",
     "status": "completed"
    },
    "tags": []
   },
   "outputs": [
    {
     "name": "stdout",
     "output_type": "stream",
     "text": [
      "<class 'pandas.core.frame.DataFrame'>\n",
      "RangeIndex: 1000 entries, 0 to 999\n",
      "Data columns (total 3 columns):\n",
      " #   Column    Non-Null Count  Dtype \n",
      "---  ------    --------------  ----- \n",
      " 0   Title     1000 non-null   object\n",
      " 1   Document  1000 non-null   object\n",
      " 2   Class     1000 non-null   int64 \n",
      "dtypes: int64(1), object(2)\n",
      "memory usage: 23.6+ KB\n"
     ]
    },
    {
     "data": {
      "text/html": [
       "<div>\n",
       "<style scoped>\n",
       "    .dataframe tbody tr th:only-of-type {\n",
       "        vertical-align: middle;\n",
       "    }\n",
       "\n",
       "    .dataframe tbody tr th {\n",
       "        vertical-align: top;\n",
       "    }\n",
       "\n",
       "    .dataframe thead th {\n",
       "        text-align: right;\n",
       "    }\n",
       "</style>\n",
       "<table border=\"1\" class=\"dataframe\">\n",
       "  <thead>\n",
       "    <tr style=\"text-align: right;\">\n",
       "      <th></th>\n",
       "      <th>Title</th>\n",
       "      <th>Document</th>\n",
       "    </tr>\n",
       "    <tr>\n",
       "      <th>Class</th>\n",
       "      <th></th>\n",
       "      <th></th>\n",
       "    </tr>\n",
       "  </thead>\n",
       "  <tbody>\n",
       "    <tr>\n",
       "      <th>0</th>\n",
       "      <td>100</td>\n",
       "      <td>100</td>\n",
       "    </tr>\n",
       "    <tr>\n",
       "      <th>1</th>\n",
       "      <td>100</td>\n",
       "      <td>100</td>\n",
       "    </tr>\n",
       "    <tr>\n",
       "      <th>2</th>\n",
       "      <td>100</td>\n",
       "      <td>100</td>\n",
       "    </tr>\n",
       "    <tr>\n",
       "      <th>3</th>\n",
       "      <td>100</td>\n",
       "      <td>100</td>\n",
       "    </tr>\n",
       "    <tr>\n",
       "      <th>4</th>\n",
       "      <td>100</td>\n",
       "      <td>100</td>\n",
       "    </tr>\n",
       "    <tr>\n",
       "      <th>5</th>\n",
       "      <td>100</td>\n",
       "      <td>100</td>\n",
       "    </tr>\n",
       "    <tr>\n",
       "      <th>6</th>\n",
       "      <td>100</td>\n",
       "      <td>100</td>\n",
       "    </tr>\n",
       "    <tr>\n",
       "      <th>7</th>\n",
       "      <td>100</td>\n",
       "      <td>100</td>\n",
       "    </tr>\n",
       "    <tr>\n",
       "      <th>8</th>\n",
       "      <td>100</td>\n",
       "      <td>100</td>\n",
       "    </tr>\n",
       "    <tr>\n",
       "      <th>9</th>\n",
       "      <td>100</td>\n",
       "      <td>100</td>\n",
       "    </tr>\n",
       "  </tbody>\n",
       "</table>\n",
       "</div>"
      ],
      "text/plain": [
       "       Title  Document\n",
       "Class                 \n",
       "0        100       100\n",
       "1        100       100\n",
       "2        100       100\n",
       "3        100       100\n",
       "4        100       100\n",
       "5        100       100\n",
       "6        100       100\n",
       "7        100       100\n",
       "8        100       100\n",
       "9        100       100"
      ]
     },
     "execution_count": 7,
     "metadata": {},
     "output_type": "execute_result"
    }
   ],
   "source": [
    "df.info()\n",
    "df.groupby('Class').count()"
   ]
  },
  {
   "cell_type": "code",
   "execution_count": 8,
   "id": "7e3241a8",
   "metadata": {
    "execution": {
     "iopub.execute_input": "2022-04-01T11:28:52.405266Z",
     "iopub.status.busy": "2022-04-01T11:28:52.402845Z",
     "iopub.status.idle": "2022-04-01T11:28:52.421262Z",
     "shell.execute_reply": "2022-04-01T11:28:52.420485Z",
     "shell.execute_reply.started": "2022-04-01T10:55:06.428912Z"
    },
    "papermill": {
     "duration": 0.061703,
     "end_time": "2022-04-01T11:28:52.421382",
     "exception": false,
     "start_time": "2022-04-01T11:28:52.359679",
     "status": "completed"
    },
    "tags": []
   },
   "outputs": [
    {
     "data": {
      "text/html": [
       "<div>\n",
       "<style scoped>\n",
       "    .dataframe tbody tr th:only-of-type {\n",
       "        vertical-align: middle;\n",
       "    }\n",
       "\n",
       "    .dataframe tbody tr th {\n",
       "        vertical-align: top;\n",
       "    }\n",
       "\n",
       "    .dataframe thead th {\n",
       "        text-align: right;\n",
       "    }\n",
       "</style>\n",
       "<table border=\"1\" class=\"dataframe\">\n",
       "  <thead>\n",
       "    <tr style=\"text-align: right;\">\n",
       "      <th></th>\n",
       "      <th>Title</th>\n",
       "      <th>Document</th>\n",
       "      <th>Class</th>\n",
       "    </tr>\n",
       "  </thead>\n",
       "  <tbody>\n",
       "    <tr>\n",
       "      <th>0</th>\n",
       "      <td>entertainment_77.txt</td>\n",
       "      <td>de niro film lead us box offic film star rober...</td>\n",
       "      <td>7</td>\n",
       "    </tr>\n",
       "    <tr>\n",
       "      <th>1</th>\n",
       "      <td>entertainment_89.txt</td>\n",
       "      <td>film star fox behind theatr bid lead actor edw...</td>\n",
       "      <td>7</td>\n",
       "    </tr>\n",
       "    <tr>\n",
       "      <th>2</th>\n",
       "      <td>historical_74.txt</td>\n",
       "      <td>first intermedi period bc main articl first in...</td>\n",
       "      <td>4</td>\n",
       "    </tr>\n",
       "    <tr>\n",
       "      <th>3</th>\n",
       "      <td>entertainment_67.txt</td>\n",
       "      <td>johnni depp act outlaw johnni depp whose lates...</td>\n",
       "      <td>7</td>\n",
       "    </tr>\n",
       "    <tr>\n",
       "      <th>4</th>\n",
       "      <td>graphics_76.txt</td>\n",
       "      <td>easi photo calendar make softwar graphic desig...</td>\n",
       "      <td>6</td>\n",
       "    </tr>\n",
       "    <tr>\n",
       "      <th>...</th>\n",
       "      <td>...</td>\n",
       "      <td>...</td>\n",
       "      <td>...</td>\n",
       "    </tr>\n",
       "    <tr>\n",
       "      <th>995</th>\n",
       "      <td>medical_694.txt</td>\n",
       "      <td>articl 1rhfrkinn816 nodrog gordon rubenfeld wr...</td>\n",
       "      <td>5</td>\n",
       "    </tr>\n",
       "    <tr>\n",
       "      <th>996</th>\n",
       "      <td>graphics_4.txt</td>\n",
       "      <td>hello look add voic input capabl user interfac...</td>\n",
       "      <td>6</td>\n",
       "    </tr>\n",
       "    <tr>\n",
       "      <th>997</th>\n",
       "      <td>graphics_96.txt</td>\n",
       "      <td>anyon success convert interleaf graphic cgm ev...</td>\n",
       "      <td>6</td>\n",
       "    </tr>\n",
       "    <tr>\n",
       "      <th>998</th>\n",
       "      <td>technologie_2.txt</td>\n",
       "      <td>china net cafe cultur crackdown chines author ...</td>\n",
       "      <td>3</td>\n",
       "    </tr>\n",
       "    <tr>\n",
       "      <th>999</th>\n",
       "      <td>technologie_29.txt</td>\n",
       "      <td>open sourc leader slam patent war word microso...</td>\n",
       "      <td>3</td>\n",
       "    </tr>\n",
       "  </tbody>\n",
       "</table>\n",
       "<p>1000 rows × 3 columns</p>\n",
       "</div>"
      ],
      "text/plain": [
       "                    Title                                           Document  \\\n",
       "0    entertainment_77.txt  de niro film lead us box offic film star rober...   \n",
       "1    entertainment_89.txt  film star fox behind theatr bid lead actor edw...   \n",
       "2       historical_74.txt  first intermedi period bc main articl first in...   \n",
       "3    entertainment_67.txt  johnni depp act outlaw johnni depp whose lates...   \n",
       "4         graphics_76.txt  easi photo calendar make softwar graphic desig...   \n",
       "..                    ...                                                ...   \n",
       "995       medical_694.txt  articl 1rhfrkinn816 nodrog gordon rubenfeld wr...   \n",
       "996        graphics_4.txt  hello look add voic input capabl user interfac...   \n",
       "997       graphics_96.txt  anyon success convert interleaf graphic cgm ev...   \n",
       "998     technologie_2.txt  china net cafe cultur crackdown chines author ...   \n",
       "999    technologie_29.txt  open sourc leader slam patent war word microso...   \n",
       "\n",
       "     Class  \n",
       "0        7  \n",
       "1        7  \n",
       "2        4  \n",
       "3        7  \n",
       "4        6  \n",
       "..     ...  \n",
       "995      5  \n",
       "996      6  \n",
       "997      6  \n",
       "998      3  \n",
       "999      3  \n",
       "\n",
       "[1000 rows x 3 columns]"
      ]
     },
     "execution_count": 8,
     "metadata": {},
     "output_type": "execute_result"
    }
   ],
   "source": [
    "# shuffle the DataFrame rows\n",
    "df_s = df.sample(frac = 1, ignore_index = True)\n",
    "X = df_s['Document']\n",
    "y = df_s['Class']\n",
    "df_s"
   ]
  },
  {
   "cell_type": "code",
   "execution_count": 9,
   "id": "8b53411d",
   "metadata": {
    "execution": {
     "iopub.execute_input": "2022-04-01T11:28:52.500069Z",
     "iopub.status.busy": "2022-04-01T11:28:52.499468Z",
     "iopub.status.idle": "2022-04-01T11:28:52.516017Z",
     "shell.execute_reply": "2022-04-01T11:28:52.515428Z",
     "shell.execute_reply.started": "2022-04-01T10:55:09.051209Z"
    },
    "papermill": {
     "duration": 0.066244,
     "end_time": "2022-04-01T11:28:52.516149",
     "exception": false,
     "start_time": "2022-04-01T11:28:52.449905",
     "status": "completed"
    },
    "tags": []
   },
   "outputs": [
    {
     "name": "stdout",
     "output_type": "stream",
     "text": [
      "[20, 20, 20, 20, 20, 20, 20, 20, 20, 20]\n",
      "3 tablespoon oil 1 teaspoon cornstarch 1 pound boneless chicken breast teaspoon ground ginger cup broccoli foret 1 cup water 2 ounc snow pea c 2 teaspoon import soy sauc 1 med carrot thinli slice 1 teaspoon white rice vinegar med red green pepper hot cook rice 1 env golden onion soup mix chicken breast cut thin strip sweet pepper cut thin strip larg skillet heat oil cook chicken veget high heat stir constantli 10 minut chicken golden veget thoroughli blend golden onion recip soup mix cornstarch ginger water soy sauc vinegar stir chicken mixtur bring boil simmer uncov minut sauc thicken serv hot rice garnish desir slice green onion toast sesam seed microwav direct omit oil degreas ginger casserol heat chicken uncov high full power 4 minut almost done remov chicken drain add veget casserol heat uncov 5 minut high full power thoroughli blend golden onion soup mix cornstarch ginger water soy sauc vinegar stir veget heat uncov 5 minut high full power sauc thicken stir return chicken casserol heat 1 minut heat let stand cover 5 minut serv garnish convert mmconv ver 8\n",
      "increas amount food eat also shorten life accord new studi research publish jama intern medicin track nearli french men women eight year found everi 10 percent increas amount food particip ate risk death went 1 percent food fall far end nova food classif system break eat four categori unprocess food edibl part plant anim process ingredi like oil flour sugar process food involv cook unprocess food process ingredi make bread can veget food intact unprocess part food mostli made substanc deriv food preserv creat conveni product process food add excess sugar oil fat diet note clair berryman assist professor depart nutrit food exercis scienc florida state univers food though take amount next also contain addit highli manufactur ingredi jama intern medicin ca say food caus earlier death associ earli death possibl therefor say exactli food contribut problem howev high amount ingredi like play role berryman say anytim get excess sugar fat salt problem hide packag 8\n",
      "date issu period come much argument fact offer summari attempt repres posit much net commun settl pleas bring unless someth truli new discuss net ca set public polici repres despit widespread belief contrari saturn v blueprint lost kept marshal space flight center microfilm problem saturn v find draw find vendor suppli vintag hardwar like guidanc system compon fact launch pad vab convert space shuttl use place launch time redesign accommod avail hardwar launch pad may well start scratch clean sheet design investig associ nasa mission allow exclus access one year data obtain order give opportun analyz data publish result without scoop peopl uninvolv mission howev nasa frequent releas exampl form photo public earli mission extens discuss topic spark attempt block galileo ulyss launch ground plutonium thermal sourc danger numer studi claim even scenario shuttl explos launch accident reentri interplanetari veloc risk extrem small two interest data point 1 may 1968 loss two snap 19b2 rtg land intact pacif ocean nimbu b weather satellit fail reach orbit fuel recov 5 month releas plutonium 2 april 1970 apollo 13 lunar modul reenter atmospher snap 27 rtg heat sourc jettison fell intact feet deep tonga trench pacif ocean corros resist materi rtg expect prevent releas fuel period time equal 10 fuel 870 year doe 1980 make inform judgement refer may wish pursu good review technic fact issu given daniel salisburi radiat risk planetari explor rtg controversi 1987 page anoth good articl also review event preced galileo launch showdown pad robert nichol appear novemb 1989 issu magazin publish organ planetari societi nation space societi respect gordon l chipman advanc space nuclear system aa space edit albert naumann grover alexand univelt 1983 hazard plutonium toxic bernard cohen health physic vol 32 may 1977 page nu corpor safeti statu report ulyss mission risk analysi book 1 document number nu 5235 gpo publish jan 31 1990 nasa offic space scienc applic environment impact statement ulyss mission tier 2 serial number gpo number probabl avail nti nasa june 1990 doe 1980 depart energi element wayn hanson editor doe document govern print offic washington april 1980 time time claim made chemic releas space shuttl solid rocket booster srb respons signific amount damag ozon layer studi indic realiti minut impact absolut term rel chemic sourc remaind item respons author quot studi charl jackman atmospher model studi space shuttl effect stratospher involv three independ theoret group organ michael prather institut space studi three group involv michael prather maria garcia charli jackman ann douglass space flight center malcolm ko dak sze atmospher environment research effort look effect space shuttl titan rocket stratospher follow estim sourc stratospher chlorin industri sourc natur sourc shuttl sourc shuttl sourc assum 9 space shuttl 6 titan rocket launch yearli thu launch would add less total stratospher chlorin sourc effect ozon minim global yearli averag total ozon would decreas much less total ozon variabl associ volcan activ solar flare influenc chlorin product ozon comput atmospher model calcul 1 decreas global averag ozon 1980 1990 influenc space shuttl titan rocket stratospher neglig launch schedul space shuttl titan rocket would need increas factor hundr order effect ozon increas industri halocarbon present time theoret result studi publish space shuttl impact mj prather mm garcia ar douglass ch jackman ko sze journal geophys research 95 1990 charl jackman atmospher chemistri dynam branch code 916 space flight center greenbelt md 20771 also see rocket mcdonald r bennett j hinshaw barn aerospac america may 1991 tri hold breath exposur space half minut unlik produc perman injuri hold breath like damag lung someth scuba diver watch ascend eardrum troubl eustachian tube badli plug theori predict anim experi confirm otherwis exposur vacuum caus immedi injuri explod blood boil freez instantli lose conscious variou minor problem sunburn possibl bend certainli mild revers painless swell skin underli tissu start ten second point lose conscious lack oxygen injuri accumul perhap one two minut die limit realli known refer effect chimpanze rapid decompress near alfr koestler nasa nov 1965 anim decompress near vacuum bancroft dunn ed report june 1965 usaf school aerospac medicin brook afb texa challeng shuttl launch destroy explos fact see roger commiss report exampl look like explos fuel burn extern tank came apart forc crew cabin suffici kill astronaut never mind destroy bodi accord kerwin team report astronaut kill intact cabin hit water circa 200mph bodi spent sever week underwat remain recov kerwin team examin sent buri ca use shuttl orbit mission beyond low earth orbit ca get big heavi carri enough fuel even fill part cargo bay tank furthermor particularli sensibl much weight thing like wing total useless except immedi vicin earth shuttl orbit highli special travel earth surfac low orbit take higher enorm costli wast much better approach would use shuttl subsystem build special spacecraft yet anoth concis answer henri spencer realli big rock mar look remark like humanoid face appear two differ frame vike orbit imageri 35a72 much facelik appear one often publish sun 10 degre western horizon 70a13 sun 27 degre west scienc writer richard hoagland champion idea face artifici intend resembl human erect extraterrestri civil analyst conced resembl like accident vike imag show crater lava flow resembl kermit frog elsewher mar exist mar anomali research societi sorri know address studi face mar observ mission carri extrem camera better imag format hope settl question year meantim specul face best carri altnet group dipeitro molenaar martian surfac mar research box 284 glen dale maryland usa 1982 18 mail pozo face chicago review press 1986 account interdisciplinari specul confer hoagland organ investig face hoagland monument mar citi edg north atlant book berkeley california usa 1987 elabor discuss evid specul format near face form citi carlotto digit imageri analysi unusu martian surfac featur 27 pp 1987 extract model face imag carlotto stein method search artifici object planetari surfac british interplanetari vol 43 5 may 1990 use fractal imag analysi model guess whether face artifici analysi imag mar possibl intellig origin vol 43 5 may 1990 light carlotto model two angl show consist show face look facelik observ surfac next faq space group space public 0\n",
      "hansen return british tripl jumper ashia hansen rule comeback year setback recoveri bad knee injuri accord report hansen commonwealth european champion sidelin sinc european cup poland june 2004 hope would abl return summer wound injuri slow heal coach aston moor told time look sooner 2006 tripl jumper moor said hansen may abl return sprint long jump sooner prospect involv specialist event problem wound heal set back rehabilit two month solv push ahead said aim get fit athlet start look sprint long jump introduct back competit arena moor said confid hansen make back competit though unclear time commonwealth game melbourn next march 34 frustrat time faze determin ad 2\n",
      "renault boss hail strong sale outsid western europ help renault boost profit 40 2004 although firm warn lower margin year franc second largest carmak enjoy healthi 43 rise net profit euro sale rose 8 euro firm said strong demand outsid western europ good perform megan rang lift result chairman loui schweitzer said 2004 great year firm renault sold million vehicl 2004 increas 4 previou year growth came mainli outsid western europ particularli strong sale turkey russia north africa total sale outsid western europ renault core market rose japanes carmak nissan renault own 44 stake contribut euro net incom year nissan chairman carlo ghosn succeed mr schweitzer head renault later year renault said outlook industri europ year stabl small growth forecast region firm benefit launch new clio model come year logan mani market howev firm said expect oper margin lower 2005 4 sale oppos 5 sluggish market environ impact rise raw materi price renault intend continu grow global sale compani said statement 9\n",
      "russia wto talk talk russia propos membership world trade organis wto make good progress say behind negoti chairman work parti ambassador stefan johannesson iceland warn still lot work done comment came presid georg w bush said us back russian entri said russia make progress govern must renew commit democraci rule law comment come three day due meet presid vladimir putin russia wait decad join wto hope final becom member earli 2006 decis could reach decemb wto 148 current member gather summit hong kong would allow earliest date membership januari 2006 hong kong summit gave approv pinpoint sever area difficulti bilater multilater work russia us said meet much effici seen time australia said one best meet recal term substanc mr johannesson also said progress bilater market access side acceler stick point membership includ limit foreign ownership telecommun life insur busi well issu surround counterfeit piraci data protect wto member also dislik russia energi price subsidi competitor say give russian busi unfair advantag 9\n",
      "4 clove garlic fine chop 1 28 ounc tomato coars 1 pound fin fish red snapper chop liquid flounder trout 2 cup fish stock clam juic lb shrimp lobster 1 chicken broth scallop crab cup dri sherri 2 teaspoon salt 18 sm clam mussel lobster teaspoon thyme basil saffron pepper tast cup oliv oil fresh chop parsley 1 lg onion fine chop garnish 2 shallot minc cut boneless piec fish bite size piec remov shell shrimp lobster crab scrub clam mussel saut onion garlic shallot oil low heat lightli golden larg pot put liquid season except parsley bring boil lower heat simmer 15 minut add seafood mix simmer 10 minut serv hot larg bowl top parsley serv crusti bread chees toss salad 8\n",
      "firm pump billion pension employ spent billion pound prop final salari pension past year research suggest survey 280 scheme incom data servic id said employ contribut increas year rise compani face biggest deficit rais pension contribut 100 id said mani firm struggl keep type scheme open rise cost increas liabil final salari scheme also known defin benefit scheme promis pay pension relat salari scheme member earn retir rise cost maintain scheme led mani employ replac final salari scheme money purchas defin contribut scheme less riski employ money purchas scheme employe pay pension fund use buy annuiti polici pay incom death retir id said scheme good health mani case firm forc top fund tackl yawn deficit level contribut paid employ increas gradual sinc late 1990 exampl contribut rose contrast 1996 1998 employ cut contribut level helen sudel editor id pension servic said rise contribut stagger highest ever record id warn widespread closur final salari scheme new entrant begin much bigger movement away paternalist provis said ms sudel figur like littl doubt mani employ reduc futur benefit point staff still scheme 9\n",
      "edit 8 acronym list edit 8 1992 dec 7 last post 1992 aug 27 list offer refer translat commonli appear acronym newsgroup forgot botch favorit acronym pleas let know also acronym list confus drop line figur add list note intend refer acronym emphat encycloped incorpor everi acronym ever saw soon run disk space list post regular interv everi 30 day comment regard welcom reachabl bradfrd2 note tell acronym stand figur note also total number acronym use far exce list acronym essenti alway explain introduc omit acronym stand one thing edit 3 list acronym appear multipl line unless simpli differ way refer thing thank everybodi sent suggest sinc first version list especi garrett wollman wollman maintain independ list somewhat verbos charact mine daniel fischer dfi maintain truli huge list 535 last count acronym term mostli german read fortun special thank time ken holli nasa sent copi nasa refer public 1059 revis transport system associ payload glossari acronym truli mammoth tome almost 300 page tla special bonu end post find perl program written none larri wall whose purpos scrambl acronym list entertain fashion thank larri astronomi astrophys aao observatori aa american astronom societi aa american astronaut societi aavso american associ variabl star observ ace advanc composit explor acrv assur crew return vehicl astronaut crew rescu vehicl adfrf flight research facil dfrf nasa agn activ galact nucleu agu american geophys union aiaa american institut aeronaut astronaut aip astronom imag process system aj astronom journal alexi array low energi imag sensor alpo associ lunar planetari observ al advanc launch system ansi american nation standard institut aoa abort around shuttl abort plan aoc attitud orbit control system astrophys journal apm attach pressur modul columbu apu auxiliari power unit arc ame research center nasa artemi advanc relay technolog mission asa astronom societi atlant asi agenzia spazial italiano asrm advanc solid rocket motor atdr advanc track data relay satellit atla atmospher laboratori applic scienc atm amateur telescop maker ato abort orbit shuttl abort plan au astronom unit aura associ univers research astronomi aw st aviat week space technolog avleak axaf advanc astrophys facil bats burst transient sourc experi cgro bbxrt telescop astro packag bem monster bh black hole bima berkeley illinoi maryland array bnsc british nation space centr btw way c commun track ccaf cape canaver air forc station ccd devic ccd center commerci develop space compact disk memori cfa center astrophys cfc chlorofluorocarbon cff columbu free flyer cfht telescop cgro arthur holley compton gamma ray observatori gro chara center high angular resolut astronomi cirri cryogen infrar radianc instrument shuttl cit circumstellar imag telescop cm command modul apollo spacecraft cmcc central mission control centr esa cne centr nation spatial cno cnsr comet nucleu sampl return cobe cosmic background explor comptel compton telescop cgro costar correct optic space telescop axial replac craf comet rendezv asteroid flybi crre combin releas radiat effect satellit csm command servic modul apollo spacecraft cstc consolid satellit test center usaf ctio cerro tololo interamerican observatori dcx delta clipper experiment ddcu convert unit dfrf dryden flight research facil adfrf dmsp defens meteorolog satellit program dod depart defens sometim dod doe depart energi dot depart transport dsc defens satellit commun system dsn deep space network dsp defens support program eafb edward air forc base ec environment control system edo extend durat orbit egret energet gamma ray experi telescop cgro ejasa electron journal astronom societi atlant elv expend launch vehicl emu extravehicular mobil unit eo earth observ system er earth resourc satellit esa european space agenc eso european southern observatori et shuttl extern tank etla extend three letter acronym etr eastern test rang euv extrem ultraviolet euv extrem ultraviolet explor eva extravehicular activ faq frequent ask question fast fast auror snapshot explor fft fast fourier transform fg fine guidanc sensor hst fhst fix head star tracker hst fir far infrar fit flexibl imag transport system foc faint object camera hst fo faint object spectrograph hst frr review ftp file transfer protocol ft flight telerobot servic fuse far ultraviolet spectroscop explor fwhm full width half maximum fyi inform ga special gbt green bank telescop gcv gener catalog variabl star gem giotto extend mission geo geosynchron earth orbit gd great dark spot ghr goddard high resolut spectrograph hst gif graphic interchang format glomr global messag relay gmc giant molecular cloud gmrt giant radio telescop gmt greenwich mean time also call ut goe geostationari orbit environment satellit gox gaseou oxygen gpc gener purpos comput gp global posit system gro gamma ray observatori cgro gr gamma ray spectromet mar observ gr great red spot gsc guid star catalog hst gsfc goddard space flight center nasa gto geostationari transfer orbit hao high altitud observatori hd henri draper catalog entri heao high energi astronom observatori hera herm robot arm hf high frequenc hga high gain antenna hlc heavi lift capabl hlv heavi lift vehicl hmc halley multicolor camera giotto hr diagram hri high resolut imag rosat hsp high speed photomet hst hst hubbl space telescop hut hopkin ultraviolet telescop astro packag hv high voltag iappp intern photoelectr photometri iau intern astronom union iauc iau circular ice intern cometari explor ida intern associ idl interact data languag igm intergalact medium igi intern geophys year imho humbl opinion iota telescop array iota intern occult time associ ip inerti point system ir infrar iraf imag reduct analysi facil ira infrar astronom satellit isa institut space astronaut scienc japan ism interstellar medium iso infrar space observatori iso intern standard organ ispm intern solar polar mission ulyss isi intern space year iue intern ultraviolet explor iu inerti upper stage jem japanes experi modul ssf jgr journal geophys research jila joint institut laboratori astrophys jpl jet propuls laboratori jsc johnson space center nasa kao kuiper airborn observatori kpno kitt peak nation observatori ksc kennedi space center nasa ktb boundari german lanl lo alamo nation laboratori larc langley research center nasa ldef long durat exposur facil lem lunar excurs modul lm apollo spacecraft leo low earth orbit lerc lewi research center nasa lest larg solar telescop lfsa list frequent seen acronym lga low gain antenna lgm littl green men lh liquid hydrogen also lh2 lhx llnl nation laboratori lm lunar modul lem apollo spacecraft lmc larg magellan cloud ln2 liquid n2 nitrogen lox liquid oxygen lrb liquid rocket booster lsr local standard rest ltp lunar transient phenomenon mb man base mcc mission control center meco main engin cutoff mmh monomethyl hydrazin mmt multipl mirror telescop mmu man maneuv unit mnra monthli notic royal astronom societi moc mar observ camera mar observ mol man orbit laboratori mola mar observ laser altimet mar observ momv man orbit maneuv vehicl motv man orbit transfer vehicl mpc minor planet circular mrsr mar rover sampl return mrsrm mar rover sampl return mission msfc georg marshal space flight center nasa mtc man tend capabl naca nation advisori committe aeronaut becam nasa nasa nation aeronaut space administr nasda nation space develop agenc japan nasm nation air space museum nasp nation aerospac plane nb nation bureau standard nist ndv nasp deriv vehicl nerva nuclear engin rocket vehicl applic ngc new gener catalog nicmo near infrar camera multi object spectromet hst upgrad nim map spectromet galileo nir near infrar nist nation institut standard technolog nb nldp nation launch develop program noaa nation ocean atmospher administr noao nation optic astronomi observatori nrao nation radio astronomi observatori nro nation reconnaiss offic ns neutron star nsa nation secur agenc nsf nation scienc foundat nso nation solar observatori nssdc nation space scienc data center ntr nuclear thermal rocket ry ntt new technolog telescop oao orbit astronom observatori ocst offic commerci space transport omb offic manag budget om orbit maneuv system opf orbit process facil orfeu orbit retriev far extrem ultraviolet spectromet osc orbit scienc corpor oscar orbit satellit carri amateur radio ossa offic space scienc applic oss orient scintil spectromet experi cgro ota optic telescop assembl hst othb horizon backscatt otv orbit transfer vehicl ov orbit vehicl pam payload assist modul payload assist modul pi princip investig plss portabl life support system pm pressur modul pmc perman man capabl pmirr pressur modul infrar radiomet mar observ pmt photomultipli tube psf point spread function psr pulsar pv photovolta pvo pioneer venu orbit qso object rci rodent cage interfac sl mission rc reaction control system rem rat enclosur modul sl mission rf radio frequenc rfi radio frequenc interfer riac research institut advanc comput scienc rm remot manipul system rngc revis new gener catalog rosat roentgen satellit rou rodent unusu size believ exist rsn real soon rtg radioisotop thermoelectr gener rtl return launch site shuttl abort plan saa south atlant anomali saga solar array gain augment hst sampex solar anomal magnetospher particl explor sao smithsonian astrophys observatori sar search rescu sar synthet apertur radar sara satellit pour astronomi radio amateur sarex search rescu exercis sarex shuttl amateur radio experi sa space activ suit sa space adapt syndrom sat synthet apertur telescop spacecraft sca shuttl carrier aircraft sct telescop sdi strateg defens initi sdio strateg defens initi organ sei space explor initi sest swedish eso submillimet telescop seti search extraterrestri intellig sid sudden ionospher disturb sir shuttl imag radar sirtf space formerli shuttl infrar telescop facil sl spacelab slar airborn radar slc space launch complex sl space lab life scienc smc small magellan cloud sme solar mesospher explor smex small explor smm solar maximum mission sn supernova sn1987a snr signal nois ratio snr supernova remnant snu solar neutrino unit sofia stratospher observatori infrar astronomi soho solar heliospher observatori span space physic analysi network spdm special purpos dextrou manipul spot system probatoir pour de la terr sp solar power satellit srb solid rocket booster srm solid rocket motor ssf space station fred er freedom ssi imag galileo ssi space studi institut ssme space shuttl main engin sspf space station process facil ssrm space station remot manipul system sst spectroscop survey telescop sst superson transport ssto singl stage orbit sti space telescop imag spectromet replac foc ghr st shuttl transport system space transport system stsci space telescop scienc institut swa submillimet wave astronomi satellit swf shortwav fade tal transatlant abort land shuttl abort plan tau thousand astronom unit mission tc thermal control system tdr track data relay satellit tdrss track data relay satellit system te thermal emiss spectromet mar observ tiro televis infrar observ satellit tla three letter acronym tom total ozon map spectromet tp thermal protect system tss tether satellit system uar upper atmospher research satellit ubm unpressur berth mechan udmh unsymmetr dimethyl hydrazin ufo unidentifi fli object ugc uppsala gener catalog uhf ultra high frequenc uit ultraviolet imag telescop astro packag ukst unit kingdom schmidt telescop usaf unit state air forc usmp unit state micrograv payload ut univers time gmt utc zulu time utc coordin univers time ut uv ultraviolet uv ultraviolet spectromet vab vehicl assembl build formerli vertic assembl build vafb vandenberg air forc base veega graviti assist galileo flight path vhf high frequenc vla larg array vlba long baselin array vlbi long baselin interferometri vlf low frequenc vlt larg telescop vm vertic motion simul voir venu orbit imag radar supersed vrm vpf vertic process facil vrm venu radar mapper call magellan wd white dwarf wfpc wide field planetari camera hst wfpcii replac wfpc wiyn wisconsin indiana yale noao telescop wsmr white sand missil rang wtr western test rang wupp wisconsin ultraviolet photopolarimt experi astro packag xmm multi mirror xuv extrem ultraviolet yso young stellar object acronym scrambl program larri wall srand next unless key 1 acro key word split unshift word key 0 foreach word word next unless word vec w word 6 1 1 foreach letter z letter w key w w threshold letter chop push w foreach key sort key acro 0 acro acro key acro pick 3 2 1 print key acro sub pick local letter prefix oldword 0 length prefix 1 index key prefix 0 prefix eq oldword prefix els prefix letter length prefix 1 local substr word w rand w word ne oldword word 30 word word elsif length prefix 1 local prefix word w rand w word ne oldword vec w word 1 10 word word word word els local substr word w rand w word ne oldword word 0 30 word mark bradford bradfrd2 err human moo bovin ill wind gather moss 0\n",
      "dillon comment space food stick may bad digest properti think think nasa food product design low fiber product minim difficulti wast dispos doubt deploy anyth caus whole sale gi distress enough plastic baggi world bad case gi diseas pat 0\n"
     ]
    }
   ],
   "source": [
    "#split test train\n",
    "X_train = []\n",
    "y_train = []\n",
    "X_test = []\n",
    "y_test = []\n",
    "classTest = [0]*len(classesList)\n",
    "for i in range (len(y)):\n",
    "    if classTest[y[i]] < 20:\n",
    "        X_test.append(X[i])\n",
    "        y_test.append(y[i])\n",
    "        classTest[y[i]] += 1\n",
    "    else:\n",
    "        X_train.append(X[i])\n",
    "        y_train.append(y[i])\n",
    "print(classTest)\n",
    "for i in range(10):\n",
    "    print(X_train[i], y_train[i])"
   ]
  },
  {
   "cell_type": "markdown",
   "id": "6678e3f3",
   "metadata": {
    "papermill": {
     "duration": 0.027884,
     "end_time": "2022-04-01T11:28:52.572732",
     "exception": false,
     "start_time": "2022-04-01T11:28:52.544848",
     "status": "completed"
    },
    "tags": []
   },
   "source": [
    "## Vectorize Documents"
   ]
  },
  {
   "cell_type": "code",
   "execution_count": 10,
   "id": "d0faa8ea",
   "metadata": {
    "execution": {
     "iopub.execute_input": "2022-04-01T11:28:52.655946Z",
     "iopub.status.busy": "2022-04-01T11:28:52.650602Z",
     "iopub.status.idle": "2022-04-01T11:28:53.104423Z",
     "shell.execute_reply": "2022-04-01T11:28:53.103861Z",
     "shell.execute_reply.started": "2022-04-01T10:55:17.747242Z"
    },
    "papermill": {
     "duration": 0.503515,
     "end_time": "2022-04-01T11:28:53.104532",
     "exception": false,
     "start_time": "2022-04-01T11:28:52.601017",
     "status": "completed"
    },
    "tags": []
   },
   "outputs": [
    {
     "data": {
      "text/plain": [
       "(800, 500)"
      ]
     },
     "execution_count": 10,
     "metadata": {},
     "output_type": "execute_result"
    }
   ],
   "source": [
    "from sklearn.feature_extraction.text import TfidfVectorizer\n",
    "\n",
    "vectorizer = TfidfVectorizer(max_features = 500)\n",
    "vectorizer.fit(X_train)\n",
    "X_train_vec = vectorizer.transform(X_train)\n",
    "X_test_vec = vectorizer.transform(X_test)\n",
    "X_train_vec.shape"
   ]
  },
  {
   "cell_type": "markdown",
   "id": "6a1bb661",
   "metadata": {
    "papermill": {
     "duration": 0.028617,
     "end_time": "2022-04-01T11:28:53.162387",
     "exception": false,
     "start_time": "2022-04-01T11:28:53.133770",
     "status": "completed"
    },
    "tags": []
   },
   "source": [
    "# Logistic Regression"
   ]
  },
  {
   "cell_type": "code",
   "execution_count": 11,
   "id": "5b092b09",
   "metadata": {
    "execution": {
     "iopub.execute_input": "2022-04-01T11:28:53.223675Z",
     "iopub.status.busy": "2022-04-01T11:28:53.223126Z",
     "iopub.status.idle": "2022-04-01T11:28:53.227055Z",
     "shell.execute_reply": "2022-04-01T11:28:53.226526Z",
     "shell.execute_reply.started": "2022-04-01T10:55:20.793154Z"
    },
    "papermill": {
     "duration": 0.036545,
     "end_time": "2022-04-01T11:28:53.227168",
     "exception": false,
     "start_time": "2022-04-01T11:28:53.190623",
     "status": "completed"
    },
    "tags": []
   },
   "outputs": [],
   "source": [
    "from sklearn.linear_model import LogisticRegression\n",
    "from sklearn.model_selection import GridSearchCV\n"
   ]
  },
  {
   "cell_type": "code",
   "execution_count": 12,
   "id": "041cd839",
   "metadata": {
    "execution": {
     "iopub.execute_input": "2022-04-01T11:28:53.293715Z",
     "iopub.status.busy": "2022-04-01T11:28:53.293202Z",
     "iopub.status.idle": "2022-04-01T11:30:45.880734Z",
     "shell.execute_reply": "2022-04-01T11:30:45.881137Z",
     "shell.execute_reply.started": "2022-04-01T10:55:34.134206Z"
    },
    "papermill": {
     "duration": 112.624503,
     "end_time": "2022-04-01T11:30:45.881294",
     "exception": false,
     "start_time": "2022-04-01T11:28:53.256791",
     "status": "completed"
    },
    "tags": []
   },
   "outputs": [
    {
     "name": "stdout",
     "output_type": "stream",
     "text": [
      "tuned hpyerparameters :(best parameters)  {'C': 10, 'penalty': 'l2', 'solver': 'newton-cg'}\n",
      "accuracy : 0.9424999999999999\n"
     ]
    }
   ],
   "source": [
    "import warnings\n",
    "warnings.filterwarnings('ignore')\n",
    "grid={\"C\":[0.1, 1, 10, 100, 1000], \"penalty\":['none',\"l1\",\"l2\", 'elasticnet'], 'solver':['newton-cg', 'lbfgs', 'liblinear', 'sag', 'saga']}# l1 lasso l2 ridge\n",
    "logreg=LogisticRegression()\n",
    "logreg_cv=GridSearchCV(logreg,grid,cv=10)\n",
    "logreg_cv.fit(X_train_vec,y_train)\n",
    "\n",
    "print(\"tuned hpyerparameters :(best parameters) \",logreg_cv.best_params_)\n",
    "print(\"accuracy :\",logreg_cv.best_score_)\n"
   ]
  },
  {
   "cell_type": "code",
   "execution_count": 13,
   "id": "c7928dd4",
   "metadata": {
    "execution": {
     "iopub.execute_input": "2022-04-01T11:30:45.942795Z",
     "iopub.status.busy": "2022-04-01T11:30:45.942301Z",
     "iopub.status.idle": "2022-04-01T11:30:46.068860Z",
     "shell.execute_reply": "2022-04-01T11:30:46.068471Z",
     "shell.execute_reply.started": "2022-04-01T10:58:48.009816Z"
    },
    "papermill": {
     "duration": 0.157921,
     "end_time": "2022-04-01T11:30:46.068964",
     "exception": false,
     "start_time": "2022-04-01T11:30:45.911043",
     "status": "completed"
    },
    "tags": []
   },
   "outputs": [
    {
     "data": {
      "text/plain": [
       "array([[1.18465463e-02, 3.52589102e-03, 9.24155054e-03, 5.92410705e-03,\n",
       "        6.24302802e-03, 7.40851412e-03, 5.46120037e-03, 9.37313496e-01,\n",
       "        5.00250972e-03, 8.03315731e-03],\n",
       "       [3.54682811e-02, 1.40040588e-01, 2.91399855e-02, 1.65271734e-01,\n",
       "        2.31357639e-02, 1.65018569e-02, 7.68945386e-03, 3.71922650e-01,\n",
       "        7.36396937e-03, 2.03465718e-01],\n",
       "       [1.01726277e-02, 4.65547704e-03, 3.25734794e-03, 7.65747218e-03,\n",
       "        9.59589518e-01, 2.68106366e-03, 1.54903341e-03, 2.07750228e-03,\n",
       "        2.41573366e-03, 5.94422398e-03],\n",
       "       [1.06385482e-03, 5.10475403e-04, 1.46745564e-03, 1.56525171e-03,\n",
       "        1.00598640e-03, 8.72614035e-04, 9.40590211e-04, 9.91846549e-01,\n",
       "        4.21875328e-04, 3.05347183e-04],\n",
       "       [5.39803671e-03, 9.59842527e-04, 2.03120484e-03, 8.97212066e-03,\n",
       "        1.24921492e-03, 2.43380531e-03, 9.75469922e-01, 9.09415550e-04,\n",
       "        1.77113708e-03, 8.05300086e-04],\n",
       "       [2.10195102e-02, 5.12243591e-03, 2.25334959e-03, 3.91657643e-03,\n",
       "        5.05102058e-03, 1.25302598e-02, 4.38239524e-03, 2.31472214e-03,\n",
       "        9.39327621e-01, 4.08210951e-03],\n",
       "       [2.05670414e-02, 1.70866577e-01, 2.89029988e-02, 6.24698455e-01,\n",
       "        1.05226356e-02, 5.05792320e-02, 8.85069822e-03, 3.13054034e-02,\n",
       "        7.78685480e-03, 4.59201041e-02],\n",
       "       [3.37629141e-01, 2.74945890e-02, 2.14196327e-02, 1.25069453e-01,\n",
       "        2.71241569e-02, 2.70625002e-01, 1.35748792e-01, 6.52398922e-03,\n",
       "        3.33759015e-02, 1.49893425e-02],\n",
       "       [2.00595505e-03, 9.79749245e-01, 2.23029799e-03, 2.96102725e-03,\n",
       "        7.38046274e-04, 7.55547505e-04, 6.93086864e-04, 3.65375772e-03,\n",
       "        1.34611594e-03, 5.86692039e-03],\n",
       "       [4.52182245e-02, 5.31574553e-03, 6.70553079e-03, 4.25370400e-03,\n",
       "        7.85132132e-03, 8.72588732e-01, 2.08356265e-02, 6.70040378e-03,\n",
       "        2.40904079e-02, 6.44030381e-03]])"
      ]
     },
     "execution_count": 13,
     "metadata": {},
     "output_type": "execute_result"
    }
   ],
   "source": [
    "lr = LogisticRegression(C = 10, penalty = 'l2', solver = 'newton-cg')\n",
    "lr.fit(X_train_vec,y_train)\n",
    "y_pred = lr.predict(X_test_vec)\n",
    "y_score = lr.predict_proba(X_test_vec)\n",
    "y_score[:10]"
   ]
  },
  {
   "cell_type": "code",
   "execution_count": 14,
   "id": "e7c33d2e",
   "metadata": {
    "execution": {
     "iopub.execute_input": "2022-04-01T11:30:46.135535Z",
     "iopub.status.busy": "2022-04-01T11:30:46.134840Z",
     "iopub.status.idle": "2022-04-01T11:30:46.144708Z",
     "shell.execute_reply": "2022-04-01T11:30:46.145094Z",
     "shell.execute_reply.started": "2022-04-01T11:01:43.856046Z"
    },
    "papermill": {
     "duration": 0.046987,
     "end_time": "2022-04-01T11:30:46.145253",
     "exception": false,
     "start_time": "2022-04-01T11:30:46.098266",
     "status": "completed"
    },
    "tags": []
   },
   "outputs": [
    {
     "name": "stdout",
     "output_type": "stream",
     "text": [
      "Logistic Regression Classification Evaluation\n",
      "Accuracy: 0.96\n",
      "Precision: [0.94444444 0.95238095 1.         0.95238095 1.         0.9047619\n",
      " 0.9        1.         0.95       1.        ]\n",
      "Recall: [0.85 1.   1.   1.   0.95 0.95 0.9  1.   0.95 1.  ]\n",
      "f1-score: [0.89473684 0.97560976 1.         0.97560976 0.97435897 0.92682927\n",
      " 0.9        1.         0.95       1.        ]\n"
     ]
    }
   ],
   "source": [
    "from sklearn.metrics import f1_score, accuracy_score, recall_score, roc_auc_score, precision_score\n",
    "print('Logistic Regression Classification Evaluation')\n",
    "print('Accuracy:', accuracy_score(y_test, y_pred))\n",
    "print('Precision:', precision_score(y_test, y_pred, average=None))\n",
    "print('Recall:', recall_score(y_test, y_pred, average=None))\n",
    "print('f1-score:', f1_score(y_test, y_pred, average=None))"
   ]
  },
  {
   "cell_type": "code",
   "execution_count": 15,
   "id": "f1536ea5",
   "metadata": {
    "execution": {
     "iopub.execute_input": "2022-04-01T11:30:46.215022Z",
     "iopub.status.busy": "2022-04-01T11:30:46.214515Z",
     "iopub.status.idle": "2022-04-01T11:30:46.221918Z",
     "shell.execute_reply": "2022-04-01T11:30:46.222315Z",
     "shell.execute_reply.started": "2022-04-01T11:01:55.835153Z"
    },
    "papermill": {
     "duration": 0.046569,
     "end_time": "2022-04-01T11:30:46.222459",
     "exception": false,
     "start_time": "2022-04-01T11:30:46.175890",
     "status": "completed"
    },
    "tags": []
   },
   "outputs": [],
   "source": [
    "import matplotlib.pyplot as plt\n",
    "\n",
    "def plot_confusion_matrix(cm, classes,\n",
    "                          normalize=False,\n",
    "                          title='Confusion matrix',\n",
    "                          cmap=plt.cm.Blues):\n",
    "    \"\"\"\n",
    "    This function prints and plots the confusion matrix.\n",
    "    Normalization can be applied by setting `normalize=True`.\n",
    "    \"\"\"\n",
    "    import itertools\n",
    "    if normalize:\n",
    "        cm = cm.astype('float') / cm.sum(axis=1)[:, np.newaxis]\n",
    "        print(\"Normalized confusion matrix\")\n",
    "    else:\n",
    "        print('Confusion matrix, without normalization')\n",
    "\n",
    "    print(cm)\n",
    "\n",
    "    plt.imshow(cm, interpolation='nearest', cmap=cmap)\n",
    "    plt.title(title)\n",
    "    plt.colorbar()\n",
    "    tick_marks = np.arange(len(classes))\n",
    "    plt.xticks(tick_marks, classes, rotation=45)\n",
    "    plt.yticks(tick_marks, classes)\n",
    "\n",
    "    fmt = '.2f' if normalize else 'd'\n",
    "    thresh = cm.max() / 2.\n",
    "    for i, j in itertools.product(range(cm.shape[0]), range(cm.shape[1])):\n",
    "        plt.text(j, i, format(cm[i, j], fmt),\n",
    "                 horizontalalignment=\"center\",\n",
    "                 color=\"white\" if cm[i, j] > thresh else \"black\")\n",
    "\n",
    "    plt.ylabel('True label')\n",
    "    plt.xlabel('Predicted label')\n",
    "    plt.tight_layout()"
   ]
  },
  {
   "cell_type": "code",
   "execution_count": 16,
   "id": "98912b09",
   "metadata": {
    "execution": {
     "iopub.execute_input": "2022-04-01T11:30:46.290380Z",
     "iopub.status.busy": "2022-04-01T11:30:46.286885Z",
     "iopub.status.idle": "2022-04-01T11:30:47.278923Z",
     "shell.execute_reply": "2022-04-01T11:30:47.278410Z",
     "shell.execute_reply.started": "2022-04-01T11:01:59.175063Z"
    },
    "papermill": {
     "duration": 1.025748,
     "end_time": "2022-04-01T11:30:47.279038",
     "exception": false,
     "start_time": "2022-04-01T11:30:46.253290",
     "status": "completed"
    },
    "tags": []
   },
   "outputs": [
    {
     "name": "stdout",
     "output_type": "stream",
     "text": [
      "Confusion matrix, without normalization\n",
      "[[17  1  0  0  0  0  2  0  0  0]\n",
      " [ 0 20  0  0  0  0  0  0  0  0]\n",
      " [ 0  0 20  0  0  0  0  0  0  0]\n",
      " [ 0  0  0 20  0  0  0  0  0  0]\n",
      " [ 0  0  0  1 19  0  0  0  0  0]\n",
      " [ 1  0  0  0  0 19  0  0  0  0]\n",
      " [ 0  0  0  0  0  1 18  0  1  0]\n",
      " [ 0  0  0  0  0  0  0 20  0  0]\n",
      " [ 0  0  0  0  0  1  0  0 19  0]\n",
      " [ 0  0  0  0  0  0  0  0  0 20]]\n"
     ]
    },
    {
     "data": {
      "image/png": "[encoded data removed]",
      "text/plain": [
       "<Figure size 720x720 with 2 Axes>"
      ]
     },
     "metadata": {
      "needs_background": "light"
     },
     "output_type": "display_data"
    }
   ],
   "source": [
    "from sklearn.metrics import confusion_matrix\n",
    "cnf_matrix = confusion_matrix(y_test, y_pred,labels=list(range(10)))\n",
    "# Plot non-normalized confusion matrix\n",
    "plt.figure(figsize = (10, 10))\n",
    "plot_confusion_matrix(cnf_matrix, classes=classesList,\n",
    "                      title='Confusion matrix')"
   ]
  },
  {
   "cell_type": "code",
   "execution_count": 17,
   "id": "68da31c3",
   "metadata": {
    "execution": {
     "iopub.execute_input": "2022-04-01T11:30:47.353704Z",
     "iopub.status.busy": "2022-04-01T11:30:47.353176Z",
     "iopub.status.idle": "2022-04-01T11:30:47.458882Z",
     "shell.execute_reply": "2022-04-01T11:30:47.458357Z",
     "shell.execute_reply.started": "2022-04-01T11:02:08.177268Z"
    },
    "papermill": {
     "duration": 0.148531,
     "end_time": "2022-04-01T11:30:47.459007",
     "exception": false,
     "start_time": "2022-04-01T11:30:47.310476",
     "status": "completed"
    },
    "tags": []
   },
   "outputs": [],
   "source": [
    "import numpy as np\n",
    "from itertools import cycle\n",
    "\n",
    "from sklearn import svm, datasets\n",
    "from sklearn.metrics import roc_curve, auc\n",
    "from sklearn.model_selection import train_test_split\n",
    "from sklearn.preprocessing import label_binarize\n",
    "from sklearn.multiclass import OneVsRestClassifier\n",
    "from sklearn.metrics import roc_auc_score\n",
    "\n",
    "# Binarize the output\n",
    "y_train_hot = label_binarize(y_train, classes=list(range(10)))\n",
    "y_test_hot = label_binarize(y_test, classes=list(range(10)))\n",
    "\n",
    "n_classes = y_test_hot.shape[1]\n",
    "\n",
    "# Learn to predict each class against the other\n",
    "classifier = OneVsRestClassifier(\n",
    "    LogisticRegression(C = 10, penalty = 'l2', solver = 'liblinear')\n",
    ")\n",
    "y_score = classifier.fit(X_train_vec,y_train_hot).decision_function(X_test_vec)\n",
    "\n",
    "# Compute ROC curve and ROC area for each class\n",
    "fpr = dict()\n",
    "tpr = dict()\n",
    "roc_auc = dict()\n",
    "for i in range(n_classes):\n",
    "    fpr[i], tpr[i], _ = roc_curve(y_test_hot[:, i], y_score[:, i])\n",
    "    roc_auc[i] = auc(fpr[i], tpr[i])\n",
    "\n",
    "# Compute micro-average ROC curve and ROC area\n",
    "fpr[\"micro\"], tpr[\"micro\"], _ = roc_curve(y_test_hot.ravel(), y_score.ravel())\n",
    "roc_auc[\"micro\"] = auc(fpr[\"micro\"], tpr[\"micro\"])"
   ]
  },
  {
   "cell_type": "code",
   "execution_count": 18,
   "id": "a6cd0a36",
   "metadata": {
    "execution": {
     "iopub.execute_input": "2022-04-01T11:30:47.561344Z",
     "iopub.status.busy": "2022-04-01T11:30:47.558967Z",
     "iopub.status.idle": "2022-04-01T11:30:47.828068Z",
     "shell.execute_reply": "2022-04-01T11:30:47.827557Z",
     "shell.execute_reply.started": "2022-04-01T11:02:10.963704Z"
    },
    "papermill": {
     "duration": 0.337892,
     "end_time": "2022-04-01T11:30:47.828178",
     "exception": false,
     "start_time": "2022-04-01T11:30:47.490286",
     "status": "completed"
    },
    "tags": []
   },
   "outputs": [
    {
     "data": {
      "image/png": "[encoded data removed]",
      "text/plain": [
       "<Figure size 864x864 with 1 Axes>"
      ]
     },
     "metadata": {
      "needs_background": "light"
     },
     "output_type": "display_data"
    }
   ],
   "source": [
    "# n_classes = 10\n",
    "lw = 2\n",
    "# First aggregate all false positive rates\n",
    "all_fpr = np.unique(np.concatenate([fpr[i] for i in range(n_classes)]))\n",
    "\n",
    "# Then interpolate all ROC curves at this points\n",
    "mean_tpr = np.zeros_like(all_fpr)\n",
    "for i in range(n_classes):\n",
    "    mean_tpr += np.interp(all_fpr, fpr[i], tpr[i])\n",
    "\n",
    "# Finally average it and compute AUC\n",
    "mean_tpr /= n_classes\n",
    "\n",
    "fpr[\"macro\"] = all_fpr\n",
    "tpr[\"macro\"] = mean_tpr\n",
    "roc_auc[\"macro\"] = auc(fpr[\"macro\"], tpr[\"macro\"])\n",
    "\n",
    "# Plot all ROC curves\n",
    "plt.figure(figsize=(12, 12))\n",
    "plt.plot(\n",
    "    fpr[\"micro\"],\n",
    "    tpr[\"micro\"],\n",
    "    label=\"micro-average ROC curve (area = {0:0.2f})\".format(roc_auc[\"micro\"]),\n",
    "    color=\"deeppink\",\n",
    "    linestyle=\":\",\n",
    "    linewidth=4,\n",
    ")\n",
    "\n",
    "plt.plot(\n",
    "    fpr[\"macro\"],\n",
    "    tpr[\"macro\"],\n",
    "    label=\"macro-average ROC curve (area = {0:0.2f})\".format(roc_auc[\"macro\"]),\n",
    "    color=\"navy\",\n",
    "    linestyle=\":\",\n",
    "    linewidth=4,\n",
    ")\n",
    "\n",
    "colors = cycle(['#8B8378', '#00FFFF', '#E3CF57', '#8B2323', '#5F9EA0', '#556B2F'])\n",
    "for i, color in zip(range(n_classes), colors):\n",
    "    plt.plot(\n",
    "        fpr[i],\n",
    "        tpr[i],\n",
    "        color=color,\n",
    "        lw=lw,\n",
    "        label=\"ROC curve of class {0} (area = {1:0.2f})\".format(classesList[i], roc_auc[i]),\n",
    "    )\n",
    "\n",
    "plt.plot([0, 1], [0, 1], \"k--\", lw=lw)\n",
    "plt.xlim([0.0, 1.0])\n",
    "plt.ylim([0.0, 1.05])\n",
    "plt.xlabel(\"False Positive Rate\")\n",
    "plt.ylabel(\"True Positive Rate\")\n",
    "plt.title(\"Receiver operating characteristic\")\n",
    "plt.legend(loc=\"lower right\")\n",
    "plt.show()"
   ]
  },
  {
   "cell_type": "code",
   "execution_count": 19,
   "id": "897c7efa",
   "metadata": {
    "execution": {
     "iopub.execute_input": "2022-04-01T11:30:47.901871Z",
     "iopub.status.busy": "2022-04-01T11:30:47.900671Z",
     "iopub.status.idle": "2022-04-01T11:30:47.911920Z",
     "shell.execute_reply": "2022-04-01T11:30:47.912417Z",
     "shell.execute_reply.started": "2022-04-01T11:02:14.982860Z"
    },
    "papermill": {
     "duration": 0.050072,
     "end_time": "2022-04-01T11:30:47.912564",
     "exception": false,
     "start_time": "2022-04-01T11:30:47.862492",
     "status": "completed"
    },
    "tags": []
   },
   "outputs": [
    {
     "data": {
      "text/plain": [
       "0.9971111111111112"
      ]
     },
     "execution_count": 19,
     "metadata": {},
     "output_type": "execute_result"
    }
   ],
   "source": [
    "roc_auc_score(y_test_hot, y_score)"
   ]
  },
  {
   "cell_type": "markdown",
   "id": "de607f16",
   "metadata": {
    "papermill": {
     "duration": 0.033807,
     "end_time": "2022-04-01T11:30:47.980437",
     "exception": false,
     "start_time": "2022-04-01T11:30:47.946630",
     "status": "completed"
    },
    "tags": []
   },
   "source": [
    "## SVM"
   ]
  },
  {
   "cell_type": "code",
   "execution_count": 20,
   "id": "6227f5fa",
   "metadata": {
    "execution": {
     "iopub.execute_input": "2022-04-01T11:30:48.051035Z",
     "iopub.status.busy": "2022-04-01T11:30:48.050407Z",
     "iopub.status.idle": "2022-04-01T11:38:00.201760Z",
     "shell.execute_reply": "2022-04-01T11:38:00.202299Z",
     "shell.execute_reply.started": "2022-04-01T11:15:33.762301Z"
    },
    "papermill": {
     "duration": 432.188358,
     "end_time": "2022-04-01T11:38:00.202460",
     "exception": false,
     "start_time": "2022-04-01T11:30:48.014102",
     "status": "completed"
    },
    "tags": []
   },
   "outputs": [
    {
     "name": "stdout",
     "output_type": "stream",
     "text": [
      "tuned hpyerparameters :(best parameters)  {'C': 1, 'gamma': 'scale', 'kernel': 'rbf'}\n",
      "accuracy : 0.9425000000000001\n"
     ]
    }
   ],
   "source": [
    "from sklearn.svm import SVC\n",
    "# kernel{‘linear’, ‘poly’, ‘rbf’, ‘sigmoid’, ‘precomputed’}\n",
    "grid = {'C': [0.1, 1, 10, 100, 1000],\n",
    "        'gamma': ['scale', 1, 0.1, 0.01, 0.001, 0.0001],\n",
    "        'kernel': ['linear','rbf', 'poly', 'sigmoid']\n",
    "       }\n",
    "svm =SVC()\n",
    "svm_cv=GridSearchCV(svm,grid,cv=10)\n",
    "svm_cv.fit(X_train_vec,y_train)\n",
    "\n",
    "print(\"tuned hpyerparameters :(best parameters) \",svm_cv.best_params_)\n",
    "print(\"accuracy :\",svm_cv.best_score_)\n"
   ]
  },
  {
   "cell_type": "code",
   "execution_count": 21,
   "id": "8ea88767",
   "metadata": {
    "execution": {
     "iopub.execute_input": "2022-04-01T11:38:00.309057Z",
     "iopub.status.busy": "2022-04-01T11:38:00.308383Z",
     "iopub.status.idle": "2022-04-01T11:38:00.585750Z",
     "shell.execute_reply": "2022-04-01T11:38:00.584687Z",
     "shell.execute_reply.started": "2022-04-01T11:26:22.994157Z"
    },
    "papermill": {
     "duration": 0.333621,
     "end_time": "2022-04-01T11:38:00.585937",
     "exception": false,
     "start_time": "2022-04-01T11:38:00.252316",
     "status": "completed"
    },
    "tags": []
   },
   "outputs": [
    {
     "name": "stdout",
     "output_type": "stream",
     "text": [
      "Support Vector Machine Classification Evaluation\n",
      "Accuracy: 0.965\n",
      "Precision: [0.94444444 0.95238095 1.         0.90909091 1.         0.9047619\n",
      " 0.94736842 1.         1.         1.        ]\n",
      "Recall: [0.85 1.   1.   1.   0.95 0.95 0.9  1.   1.   1.  ]\n",
      "f1-score: [0.89473684 0.97560976 1.         0.95238095 0.97435897 0.92682927\n",
      " 0.92307692 1.         1.         1.        ]\n"
     ]
    }
   ],
   "source": [
    "svc =SVC(C = 1, gamma = 'scale', kernel = 'linear')\n",
    "svc.fit(X_train_vec,y_train)\n",
    "y_pred = svc.predict(X_test_vec)\n",
    "print('Support Vector Machine Classification Evaluation')\n",
    "print('Accuracy:', accuracy_score(y_test, y_pred))\n",
    "print('Precision:', precision_score(y_test, y_pred, average=None))\n",
    "print('Recall:', recall_score(y_test, y_pred, average=None))\n",
    "print('f1-score:', f1_score(y_test, y_pred, average=None))"
   ]
  },
  {
   "cell_type": "code",
   "execution_count": 22,
   "id": "ae349d9d",
   "metadata": {
    "execution": {
     "iopub.execute_input": "2022-04-01T11:38:00.695818Z",
     "iopub.status.busy": "2022-04-01T11:38:00.695152Z",
     "iopub.status.idle": "2022-04-01T11:38:01.406937Z",
     "shell.execute_reply": "2022-04-01T11:38:01.406462Z",
     "shell.execute_reply.started": "2022-04-01T11:26:24.811848Z"
    },
    "papermill": {
     "duration": 0.77092,
     "end_time": "2022-04-01T11:38:01.407050",
     "exception": false,
     "start_time": "2022-04-01T11:38:00.636130",
     "status": "completed"
    },
    "tags": []
   },
   "outputs": [
    {
     "name": "stdout",
     "output_type": "stream",
     "text": [
      "Confusion matrix, without normalization\n",
      "[[17  1  0  0  0  1  1  0  0  0]\n",
      " [ 0 20  0  0  0  0  0  0  0  0]\n",
      " [ 0  0 20  0  0  0  0  0  0  0]\n",
      " [ 0  0  0 20  0  0  0  0  0  0]\n",
      " [ 0  0  0  1 19  0  0  0  0  0]\n",
      " [ 1  0  0  0  0 19  0  0  0  0]\n",
      " [ 0  0  0  1  0  1 18  0  0  0]\n",
      " [ 0  0  0  0  0  0  0 20  0  0]\n",
      " [ 0  0  0  0  0  0  0  0 20  0]\n",
      " [ 0  0  0  0  0  0  0  0  0 20]]\n"
     ]
    },
    {
     "data": {
      "image/png": "[encoded data removed]",
      "text/plain": [
       "<Figure size 720x720 with 2 Axes>"
      ]
     },
     "metadata": {
      "needs_background": "light"
     },
     "output_type": "display_data"
    }
   ],
   "source": [
    "cnf_matrix = confusion_matrix(y_test, y_pred,labels=list(range(10)))\n",
    "# Plot non-normalized confusion matrix\n",
    "plt.figure(figsize = (10, 10))\n",
    "plot_confusion_matrix(cnf_matrix, classes=classesList,\n",
    "                      title='Confusion matrix')"
   ]
  },
  {
   "cell_type": "code",
   "execution_count": 23,
   "id": "026ab15f",
   "metadata": {
    "execution": {
     "iopub.execute_input": "2022-04-01T11:38:01.490531Z",
     "iopub.status.busy": "2022-04-01T11:38:01.490013Z",
     "iopub.status.idle": "2022-04-01T11:38:02.261357Z",
     "shell.execute_reply": "2022-04-01T11:38:02.261844Z",
     "shell.execute_reply.started": "2022-04-01T11:26:28.410835Z"
    },
    "papermill": {
     "duration": 0.818343,
     "end_time": "2022-04-01T11:38:02.262003",
     "exception": false,
     "start_time": "2022-04-01T11:38:01.443660",
     "status": "completed"
    },
    "tags": []
   },
   "outputs": [],
   "source": [
    "# Binarize the output\n",
    "y_train_hot = label_binarize(y_train, classes=list(range(10)))\n",
    "y_test_hot = label_binarize(y_test, classes=list(range(10)))\n",
    "\n",
    "n_classes = y_test_hot.shape[1]\n",
    "\n",
    "# Learn to predict each class against the other\n",
    "classifier = OneVsRestClassifier(\n",
    "    SVC(C = 100, gamma = 0.1, kernel = 'rbf')\n",
    ")\n",
    "y_score = classifier.fit(X_train_vec,y_train_hot).decision_function(X_test_vec)\n",
    "\n",
    "# Compute ROC curve and ROC area for each class\n",
    "fpr = dict()\n",
    "tpr = dict()\n",
    "roc_auc = dict()\n",
    "for i in range(n_classes):\n",
    "    fpr[i], tpr[i], _ = roc_curve(y_test_hot[:, i], y_score[:, i])\n",
    "    roc_auc[i] = auc(fpr[i], tpr[i])\n",
    "\n",
    "# Compute micro-average ROC curve and ROC area\n",
    "fpr[\"micro\"], tpr[\"micro\"], _ = roc_curve(y_test_hot.ravel(), y_score.ravel())\n",
    "roc_auc[\"micro\"] = auc(fpr[\"micro\"], tpr[\"micro\"])"
   ]
  },
  {
   "cell_type": "code",
   "execution_count": 24,
   "id": "5839e0f8",
   "metadata": {
    "execution": {
     "iopub.execute_input": "2022-04-01T11:38:02.369619Z",
     "iopub.status.busy": "2022-04-01T11:38:02.368917Z",
     "iopub.status.idle": "2022-04-01T11:38:02.655518Z",
     "shell.execute_reply": "2022-04-01T11:38:02.654977Z",
     "shell.execute_reply.started": "2022-04-01T11:26:30.419097Z"
    },
    "papermill": {
     "duration": 0.34689,
     "end_time": "2022-04-01T11:38:02.655630",
     "exception": false,
     "start_time": "2022-04-01T11:38:02.308740",
     "status": "completed"
    },
    "tags": []
   },
   "outputs": [
    {
     "data": {
      "image/png": "[encoded data removed]",
      "text/plain": [
       "<Figure size 864x864 with 1 Axes>"
      ]
     },
     "metadata": {
      "needs_background": "light"
     },
     "output_type": "display_data"
    }
   ],
   "source": [
    "lw = 2\n",
    "# First aggregate all false positive rates\n",
    "all_fpr = np.unique(np.concatenate([fpr[i] for i in range(n_classes)]))\n",
    "\n",
    "# Then interpolate all ROC curves at this points\n",
    "mean_tpr = np.zeros_like(all_fpr)\n",
    "for i in range(n_classes):\n",
    "    mean_tpr += np.interp(all_fpr, fpr[i], tpr[i])\n",
    "\n",
    "# Finally average it and compute AUC\n",
    "mean_tpr /= n_classes\n",
    "\n",
    "fpr[\"macro\"] = all_fpr\n",
    "tpr[\"macro\"] = mean_tpr\n",
    "roc_auc[\"macro\"] = auc(fpr[\"macro\"], tpr[\"macro\"])\n",
    "\n",
    "# Plot all ROC curves\n",
    "plt.figure(figsize=(12, 12))\n",
    "plt.plot(\n",
    "    fpr[\"micro\"],\n",
    "    tpr[\"micro\"],\n",
    "    label=\"micro-average ROC curve (area = {0:0.2f})\".format(roc_auc[\"micro\"]),\n",
    "    color=\"deeppink\",\n",
    "    linestyle=\":\",\n",
    "    linewidth=4,\n",
    ")\n",
    "\n",
    "plt.plot(\n",
    "    fpr[\"macro\"],\n",
    "    tpr[\"macro\"],\n",
    "    label=\"macro-average ROC curve (area = {0:0.2f})\".format(roc_auc[\"macro\"]),\n",
    "    color=\"navy\",\n",
    "    linestyle=\":\",\n",
    "    linewidth=4,\n",
    ")\n",
    "\n",
    "colors = cycle(['#8B8378', '#00FFFF', '#E3CF57', '#8B2323', '#5F9EA0', '#556B2F'])\n",
    "for i, color in zip(range(n_classes), colors):\n",
    "    plt.plot(\n",
    "        fpr[i],\n",
    "        tpr[i],\n",
    "        color=color,\n",
    "        lw=lw,\n",
    "        label=\"ROC curve of class {0} (area = {1:0.2f})\".format(classesList[i], roc_auc[i]),\n",
    "    )\n",
    "\n",
    "plt.plot([0, 1], [0, 1], \"k--\", lw=lw)\n",
    "plt.xlim([0.0, 1.0])\n",
    "plt.ylim([0.0, 1.05])\n",
    "plt.xlabel(\"False Positive Rate\")\n",
    "plt.ylabel(\"True Positive Rate\")\n",
    "plt.title(\"Receiver operating characteristic\")\n",
    "plt.legend(loc=\"lower right\")\n",
    "plt.show()"
   ]
  },
  {
   "cell_type": "code",
   "execution_count": 25,
   "id": "2ea2e143",
   "metadata": {
    "execution": {
     "iopub.execute_input": "2022-04-01T11:38:02.754524Z",
     "iopub.status.busy": "2022-04-01T11:38:02.753788Z",
     "iopub.status.idle": "2022-04-01T11:38:02.763522Z",
     "shell.execute_reply": "2022-04-01T11:38:02.762873Z",
     "shell.execute_reply.started": "2022-04-01T11:26:32.778151Z"
    },
    "papermill": {
     "duration": 0.069113,
     "end_time": "2022-04-01T11:38:02.763662",
     "exception": false,
     "start_time": "2022-04-01T11:38:02.694549",
     "status": "completed"
    },
    "tags": []
   },
   "outputs": [
    {
     "data": {
      "text/plain": [
       "0.9963055555555556"
      ]
     },
     "execution_count": 25,
     "metadata": {},
     "output_type": "execute_result"
    }
   ],
   "source": [
    "roc_auc_score(y_test_hot, y_score)"
   ]
  },
  {
   "cell_type": "code",
   "execution_count": null,
   "id": "f2f5cc84",
   "metadata": {
    "papermill": {
     "duration": 0.054569,
     "end_time": "2022-04-01T11:38:02.874413",
     "exception": false,
     "start_time": "2022-04-01T11:38:02.819844",
     "status": "completed"
    },
    "tags": []
   },
   "outputs": [],
   "source": []
  },
  {
   "cell_type": "code",
   "execution_count": null,
   "id": "9212ab9f",
   "metadata": {
    "papermill": {
     "duration": 0.05439,
     "end_time": "2022-04-01T11:38:02.983308",
     "exception": false,
     "start_time": "2022-04-01T11:38:02.928918",
     "status": "completed"
    },
    "tags": []
   },
   "outputs": [],
   "source": []
  },
  {
   "cell_type": "code",
   "execution_count": null,
   "id": "52b9b190",
   "metadata": {
    "papermill": {
     "duration": 0.054031,
     "end_time": "2022-04-01T11:38:03.091662",
     "exception": false,
     "start_time": "2022-04-01T11:38:03.037631",
     "status": "completed"
    },
    "tags": []
   },
   "outputs": [],
   "source": []
  }
 ],
 "metadata": {
  "kernelspec": {
   "display_name": "Python 3",
   "language": "python",
   "name": "python3"
  },
  "language_info": {
   "codemirror_mode": {
    "name": "ipython",
    "version": 3
   },
   "file_extension": ".py",
   "mimetype": "text/x-python",
   "name": "python",
   "nbconvert_exporter": "python",
   "pygments_lexer": "ipython3",
   "version": "3.7.12"
  },
  "papermill": {
   "default_parameters": {},
   "duration": 583.455352,
   "end_time": "2022-04-01T11:38:04.057255",
   "environment_variables": {},
   "exception": null,
   "input_path": "__notebook__.ipynb",
   "output_path": "__notebook__.ipynb",
   "parameters": {},
   "start_time": "2022-04-01T11:28:20.601903",
   "version": "2.3.3"
  }
 },
 "nbformat": 4,
 "nbformat_minor": 5
}
